{
 "cells": [
  {
   "cell_type": "markdown",
   "metadata": {
    "id": "-tGPSlZ_gBHs"
   },
   "source": [
    "# **1.   Introduction**\n",
    "\n",
    "The Collection and Delivery Problem of Biomedical Specimens (CDSP) arises in healthcare logistics, where biomedical samples, such as blood, plasma, and urine, must be transported from multiple points of care to a central laboratory for processing. This process is critical because timely delivery impacts the efficiency of laboratory diagnostics, which underpins most medical decisions.\n",
    "\n",
    "In this short essay, we extract the CDSP from Rocha et al. (2024). They propose a two-index mixed-integer programming formulation using replenishment arcs, which outperforms both the state-of-the-art model and the state-of-the-art metaheuristic from the literature. The problem in the paper can be defined as follows: The laboratory owns a homogeneous fleet of vehicles. These vehicles depart from the depot (laboratory) and travel to locations to collect specimens within predetermined time-windows. After that, the specimens will be delivered back to the depot. If a vehicle arrives at a location before the time-window allowed for specimen pickup, it must wait at that location. If a vehicle arrives later, it cannot collect the specimen. Each location must be visited by one and only one vehicle. The objective is to ensure that the maximum number of specimens reach the laboratory as early as possible. Therefore, vehicles may make multiple trips, returning to the depot to deliver specimens before continuing their routes. There is a constraint for the shift of each vehicle: the shift of each vehicle, defined as the time span between its initial departure from the depot for the first trip and its return to the depot after the final trip, must not exceed a specified limit.\n",
    "\n",
    "CDSP shares the characteristics of typical vehicle routing problems with multiple trips, multiple vehicles, and time-windows, but also has some differences to suit the nature of the problem:\n",
    "* Instead of minimizing the makespan of all trips, our objective is to minimize the sum of delivery request completion times, enabling faster initiation of specimen processing and reducing overall diagnostic delays. In this context, the request completion time of a specimen refers to the time its arrival at the laboratory.\n",
    "* Specimens require minimal storage space in vehicles. Therefore, capacity constraints for fleet of vehicles can be relaxed.\n",
    "* Because of the urgency of the problem, the variable costs for transportation will be ignored.\n",
    "\n",
    "In this essay, I use the idea of replenishment arcs derived from Rocha et al. (2024) to construct a dynamic programming algorithm for the CDSP. Additionally, the constraints for the shifts of vehicles in the original problem are relaxed. The model and algorithm can be used as the starting points for implementing more complex algorithms, such as (deep) reinforcement learning.\n",
    "\n",
    "The content of the essay will be structured as follows: in chapter 2, a Markov Decision Process (MDP) will be defined for modeling the decision-making problems. In chapter 3, dynamic programming algorithms will be introduced. We will start with an algorithm using forward labeling. Then, methods including more efficient data types, dominance rules, and symmetry breaking will be applied to improve computational time. Computational results will be presented and evaluated in chapter 4. Chapter 5 will include conclusions and possible further research directions. Since the essay is written in Jupyter notebook format, code snippets of algorithms will be presented throughout the chapters.\n"
   ]
  },
  {
   "cell_type": "markdown",
   "metadata": {
    "id": "XaMY4WN1hNIf"
   },
   "source": [
    "# **2.\tMarkov Decision Process for CDSP**\n",
    "Given k vehicles, a set of depot (indexed 0) and specimens indexed from 1 to n with (x_i,y_i) and (e_i,l_i) being the coordinates and time-window of location i, respectively, the CDSP can be formulated as a Markov Decision Process (MDP) with the following components:\n",
    "\n",
    "<br>\n",
    "\n",
    "**2.1. States (S):**\n",
    "\n",
    "The state at any time t is represented as:\n",
    "\n",
    "$\n",
    "S_t = \\left(\n",
    "\\begin{bmatrix}\n",
    "\\text{visited}_1 \\\\\n",
    "\\vdots \\\\\n",
    "\\text{visited}_k\n",
    "\\end{bmatrix},\n",
    "\\begin{bmatrix}\n",
    "\\text{current_node}_1 \\\\\n",
    "\\vdots \\\\\n",
    "\\text{current_node}_k\n",
    "\\end{bmatrix},\n",
    "\\begin{bmatrix}\n",
    "\\text{count}_1 \\\\\n",
    "\\vdots \\\\\n",
    "\\text{count}_k\n",
    "\\end{bmatrix},\n",
    "\\begin{bmatrix}\n",
    "\\text{time}_1 \\\\\n",
    "\\vdots \\\\\n",
    "\\text{time}_k\n",
    "\\end{bmatrix}\n",
    "\\right)\n",
    "$\n",
    "\n",
    ", where:\n",
    "* $visited_i$: The ordered list corresponds to the nodes that vehicle i has visited. Here the depot index can be repeated multiple times.\n",
    "\n",
    "* $\\text{current_node}_i$: The current position of vehicle $i$.\n",
    "\n",
    "* $count_i$: The number of specimens the vehicle has collected during the trip. The value will be set to $0$ if the vehicle is in the depot, indicating that all specimens have been delivered to the laboratory.\n",
    "\n",
    "* $time_i$: The time at which the vehicle $i$ performs its operation (collects the specimen or delivers all specimens being kept for the laboratory) at current location.\n",
    "\n",
    "Note that the set of unvisited locations (nodes) can be derived from the set of visited locations. This reduces the size of the state space. The terminal state will be the state where all the specimens have been collected and all the vehicles are at the depot.\n",
    "\n",
    "<br>\n",
    "\n",
    "**2.2. Actions ($X$):**\n",
    "\n",
    "The action $x_t\\in X(S_t)$ at time $t$, where $X(S_t)$ describes the set of all valid actions at state $S_t$ , is represented as:\n",
    "\n",
    "$x_t=\\left[\\begin{matrix}next_1&\\cdots&next_k\\\\\\end{matrix}\\right]$\n",
    "\n",
    "Where $next_i$ corresponds to the next destination for vehicle $i$.\n",
    "\n",
    "<br>\n",
    "\n",
    "**2.3. \tTransition Function ($T$):**\n",
    "\n",
    "The transition function determines the next state $S_{t+1}$ and the immediate cost $C$ given the current state $S_t$ and action $x_t$:\n",
    "\n",
    "$T:\\ \\ S_t,x_t\\rightarrow S_{t+1},C(S_t,S_{t+1})$\n",
    "\n",
    "$S_{t+1}$ can be obtained by updating the vectors in $S_t$:\n",
    "* Updating current_nodes to $x_t$.\n",
    "* Updating time by adding times for going to new locations.\n",
    "* Adding the locations in $x_t$ into visited.\n",
    "* Resetting $count_i$ to $0$  if vehicle $i$ returns to the depot.\n",
    "\n",
    "If vehicle i backs to the depot at $S_{t+1}$, a cost $C_i\\left(S_t,S_{t+1}\\right)=S_{t+1}\\left(time_i\\right)\\ast S_t(count_i)$ incurrs. $C(S_t,S_{t+1})$ is calculated as the sum of the cost incurred for each vehicle.\n",
    "\n",
    "<br>\n",
    "\n",
    "**2.4. Policy($π$):**\n",
    "\n",
    "The policy $\\pi$ maps the state $S_t$ to an action $x_t$. The goal is to find the optimal policy $\\pi^\\ast$ that minimizes the total cost over the planning horizon. The cost function $C(S_t)$ is defined as cumulated cost up to state $S_t$. In our problem, the objective is to find the terminal state $S_{terminal}$ which has the minimum value of $C(S_{terminal})$.\n",
    "\n",
    "<br>\n",
    "\n",
    "We can observe that in this MDP the size of state space grows very rapidly with the number of vehicles and specimens, even when the set of valid actions at each state is well defined. For this reason, traditional dynamic programming implementations, where the entire state space is explored using recursive functions, become inefficient.\n",
    "\n",
    "In the next chapter, algorithms using forward labeling will be proposed. Each label represents a partial solution, and only the most promising labels are propagated further to reduce computational effort. The use of labeling provides an efficient way to systematically explore and evaluate state and action spaces. It also makes it easier to apply methods for pruning suboptimal solutions and tracing back the optimal path.\n"
   ]
  },
  {
   "cell_type": "markdown",
   "metadata": {
    "id": "7ZiaWBDNma0s"
   },
   "source": [
    "#**3.\tImplementation of Dynamic Programming using forward labeling**\n",
    "\n",
    "In our first implementation, a dynamic programming algorithm using forward labeling works by iteratively generating states based on the current state and possible actions. The Python programming language will be used.\n",
    "\n",
    "Each vector in the state or the action is implemented as a list. Without losing generality, the specimens indexes start from $0$ to $n-1$. $n$ will be the index of the depot. This makes the code more concise and makes it easier to see the number of specimens when looking at the result.\n",
    "\n",
    "We expand feasible labels from a starting point toward goal states (all customers visited, and vehicles return to the depot). The initial label is created where all vehicles are at the depot, time and count are set to $0$ for all vehicles, and visited is empty. During this process, a $buffer$ (in the form of a dictionary) and a queue (in the form of a list) are used to store and explore the state space. The $buffer$ stores the cumulative cost $C(S_t)$ and the previous state $S_{t-1}$.\n",
    "\n",
    "From the initial state, while the queue is not empty, the algorithm will generate all valid actions (using get_all_valid_actions) of state in queue, representing feasible movements of vehicles. Instead of assigning a large cost to invalid actions, the is_action_valid function is applied to check their validity. For an action to be valid, it must comply with customer time windows and avoid revisiting already served customers. This function helps avoid exploring towards infeasible states, significantly reducing the amount of state to process.\n",
    "\n",
    "Then we apply each action to transition to a new state (using step_obs), updating the label components:\n",
    "\n",
    "* New $\\text{visited_nodes}$ based on destinations reached.\n",
    "* Updated $\\text{vehicle_travel_times}$ after moving to new destinations.\n",
    "* Adjusted $\\text{visited_count}$ and current_nodes based on visits to customers or the depot.\n",
    "\n",
    "Then valid labels are added to the queue for further expansion. They are also stored in the buffer with their corresponding cost and parent label for backtracking. The algorithm continues until the queue is empty. The optimal solution is found by evaluating labels of terminal states where the cumulative cost is minimal. The pseudocode of the algorithm is as follows:\n",
    "\n",
    "```plaintext\n",
    "initial_state ← Instance's parameters\n",
    "Buffer ← {initial_state: (0, None)}\n",
    "Queue ← {initial_state}\n",
    "while Queue is not empty:\n",
    "    S ← Queue.pop()\n",
    "    current_cost ← Buffer[S][0]\n",
    "    for action in get_all_valid_actions(S):\n",
    "        (S', cost) ← transition_function(S, action)\n",
    "        Buffer[S'] ← (current_cost + cost, S)\n",
    "        Queue.push(S')\n",
    "end while\n",
    "(best_path, best_cost) ← trace_back(Buffer)\n",
    "return best_path, best_cost\n",
    "```\n",
    "The implementation of this algorithm **(Model 1)** is the following code snipset"
   ]
  },
  {
   "cell_type": "code",
   "execution_count": 1,
   "metadata": {
    "id": "u8J718J-oUBe"
   },
   "outputs": [],
   "source": [
    "import numpy as np\n",
    "import pandas as pd\n",
    "import itertools\n",
    "import copy\n",
    "import time\n",
    "import heapq\n",
    "from collections import defaultdict"
   ]
  },
  {
   "cell_type": "code",
   "execution_count": 2,
   "metadata": {
    "id": "nG1tJv3EoZt_"
   },
   "outputs": [],
   "source": [
    "def dynamic_programming_basic(num_vehicles, num_customers, depot_location, customer_locations, customer_time_windows):\n",
    "    def get_state_key(state):\n",
    "        return (\n",
    "            tuple(frozenset(nodes) for nodes in state['visited_nodes']),\n",
    "            tuple(state['current_nodes']),\n",
    "            tuple(state['visited_count']),\n",
    "            tuple(state['vehicle_travel_times']),\n",
    "        )\n",
    "\n",
    "    def step_obs(obs, action):\n",
    "        obs_new = copy.deepcopy(obs)\n",
    "        visited_nodes = obs_new['visited_nodes']\n",
    "        current_nodes = obs_new['current_nodes']\n",
    "        visited_counts = obs_new['visited_count']\n",
    "        vehicle_travel_times = obs_new['vehicle_travel_times']\n",
    "        unvisited_nodes = get_unvisited_nodes(visited_nodes)\n",
    "\n",
    "        cost = float(0)\n",
    "        info = {}\n",
    "\n",
    "        if all(n == num_customers for n in current_nodes) and not np.any(unvisited_nodes):\n",
    "            info[\"Done\"] = True\n",
    "            return obs_new, cost, True, False, info\n",
    "\n",
    "        if not is_action_valid(action, unvisited_nodes, current_nodes, vehicle_travel_times):\n",
    "            info[\"ValueError\"] = \"Invalid action\"\n",
    "            return obs_new, cost, False, False, info\n",
    "\n",
    "        # Iterate through each vehicle and execute their action\n",
    "        for vehicle_idx in range(num_vehicles):\n",
    "            destination_idx = action[vehicle_idx]\n",
    "\n",
    "            if current_nodes[vehicle_idx] == num_customers:\n",
    "                current_position = np.array(depot_location)\n",
    "            else:\n",
    "                current_position = np.array(customer_locations[current_nodes[vehicle_idx]])\n",
    "\n",
    "            # Determine destination's location\n",
    "            if destination_idx == num_customers:\n",
    "                destination = np.array(depot_location)\n",
    "            else:\n",
    "                destination = np.array(customer_locations[destination_idx])\n",
    "\n",
    "            # Calculate travel time\n",
    "            travel_time = np.linalg.norm(destination - current_position)\n",
    "            vehicle_travel_times[vehicle_idx] += travel_time\n",
    "\n",
    "            # If next node is the depot\n",
    "            if destination_idx == num_customers:\n",
    "                cost += (vehicle_travel_times[vehicle_idx] * visited_counts[vehicle_idx])\n",
    "                visited_counts[vehicle_idx] = 0\n",
    "                current_nodes[vehicle_idx] = destination_idx\n",
    "                visited_nodes[vehicle_idx].add(destination_idx)\n",
    "            # If next node is a customer\n",
    "            if destination_idx < num_customers:\n",
    "                if unvisited_nodes[destination_idx] == 1:\n",
    "                    unvisited_nodes[destination_idx] = 0\n",
    "                    start_time, end_time = customer_time_windows[destination_idx]\n",
    "                    arrival_time = vehicle_travel_times[vehicle_idx]\n",
    "                    if arrival_time < start_time:\n",
    "                        vehicle_travel_times[vehicle_idx] = start_time\n",
    "                    elif arrival_time > end_time:\n",
    "                        return False\n",
    "                    visited_counts[vehicle_idx] += 1\n",
    "                    current_nodes[vehicle_idx] = destination_idx\n",
    "                    visited_nodes[vehicle_idx].add(destination_idx)\n",
    "\n",
    "        done = False\n",
    "        if all(n == num_customers for n in current_nodes) and not np.any(unvisited_nodes):\n",
    "            done = True\n",
    "\n",
    "        next_obs = {\n",
    "            \"visited_nodes\": visited_nodes,\n",
    "            \"current_nodes\": current_nodes,\n",
    "            \"visited_count\": visited_counts,\n",
    "            \"vehicle_travel_times\": vehicle_travel_times,\n",
    "        }\n",
    "\n",
    "        return next_obs, cost, done, False, info\n",
    "\n",
    "    def get_unvisited_nodes(visited_nodes):\n",
    "        unvisited_nodes = np.ones(num_customers, dtype=int)\n",
    "        for vehicle_idx in range(num_vehicles):\n",
    "            for node in visited_nodes[vehicle_idx]:\n",
    "                if 0 <= node < num_customers:\n",
    "                    unvisited_nodes[node] = 0\n",
    "        return unvisited_nodes\n",
    "\n",
    "    def is_action_valid(action, unvisited, current, vehicle_travel_times):\n",
    "        unvisited_nodes = unvisited.copy()\n",
    "        current_nodes = current.copy()\n",
    "\n",
    "        for node_idx in range(num_customers):\n",
    "            temp = 0\n",
    "            for a in action:\n",
    "                if node_idx == a:\n",
    "                    temp += 1\n",
    "            if temp >= 2:\n",
    "                return False\n",
    "\n",
    "        for vehicle_idx in range(num_vehicles):\n",
    "            destination_idx = action[vehicle_idx]\n",
    "\n",
    "            # Validate action indices\n",
    "            if not (0 <= destination_idx <= num_customers):\n",
    "                return False\n",
    "            # Check if the customer has already been visited by any vehicle\n",
    "            if (destination_idx < num_customers\n",
    "                    and unvisited_nodes[destination_idx] == 0):\n",
    "                return False\n",
    "            # Check if the arrival time exceeds the time window\n",
    "            if destination_idx < num_customers:\n",
    "                start_time, end_time = customer_time_windows[destination_idx]\n",
    "                current_position = np.array(depot_location) if current_nodes[vehicle_idx] == num_customers else np.array(customer_locations[current_nodes[vehicle_idx]])\n",
    "                destination = np.array(customer_locations[destination_idx])\n",
    "                travel_time = np.linalg.norm(destination - current_position)\n",
    "                arrival_time = vehicle_travel_times[vehicle_idx] + travel_time\n",
    "                if arrival_time > end_time:\n",
    "                    return False\n",
    "\n",
    "        if all(i == num_customers for i in current_nodes) and all(a == num_customers for a in action):\n",
    "            return False\n",
    "\n",
    "        return True\n",
    "\n",
    "    def get_all_valid_actions(unvisited, current, times):\n",
    "        unvisited_nodes = unvisited.copy()\n",
    "        current_nodes = current.copy()\n",
    "        current_times = times.copy()\n",
    "        valid_actions = []\n",
    "        all_possible_actions = list(itertools.product(range(num_customers + 1), repeat=num_vehicles))\n",
    "\n",
    "        for action in all_possible_actions:\n",
    "            if is_action_valid(action, unvisited_nodes, current_nodes, current_times):\n",
    "                valid_actions.append(list(action))\n",
    "\n",
    "        return np.array(valid_actions)\n",
    "\n",
    "    start_time = time.time()  # Start the timer\n",
    "\n",
    "    initial_state = {\n",
    "        \"visited_nodes\": [set() for _ in range(num_vehicles)],\n",
    "        \"current_nodes\": [num_customers] * num_vehicles,\n",
    "        \"visited_count\": [0] * num_vehicles,\n",
    "        \"vehicle_travel_times\": [0.0] * num_vehicles,\n",
    "    }\n",
    "    initial_key = get_state_key(initial_state)\n",
    "    buffer = {initial_key: (0, None)}\n",
    "    queue = [initial_state]  # Store only state for tracking\n",
    "\n",
    "    while queue:\n",
    "        current_state = queue.pop(0)\n",
    "        current_key = get_state_key(current_state)\n",
    "        current_cost = buffer[current_key][0]\n",
    "\n",
    "        unvisited_nodes = get_unvisited_nodes(current_state['visited_nodes'])\n",
    "        valid_actions = get_all_valid_actions(unvisited_nodes, current_state['current_nodes'], current_state['vehicle_travel_times'])\n",
    "\n",
    "        for action in valid_actions:\n",
    "            next_state, action_cost, _, _, _ = step_obs(current_state, action)\n",
    "            next_key = get_state_key(next_state)\n",
    "            new_cost = current_cost + action_cost\n",
    "\n",
    "            # Update buffer if new state or lower cost found\n",
    "            if next_key not in buffer:\n",
    "                buffer[next_key] = (new_cost, current_key)\n",
    "                queue.append(next_state)\n",
    "            else:\n",
    "                if new_cost < buffer[next_key][0]:\n",
    "                    buffer[next_key] = (new_cost, current_key)\n",
    "                    queue.append(next_state)\n",
    "\n",
    "    best_cost = float('inf')\n",
    "    best_key = None\n",
    "\n",
    "    # Find the optimal solution by iterating over the completed states\n",
    "    for key in buffer.keys():\n",
    "        visited_nodes, current_nodes, visited_count, vehicle_travel_times = key\n",
    "        unvisited_nodes = get_unvisited_nodes([set(nodes) for nodes in visited_nodes])\n",
    "        if all(node == 0 for node in unvisited_nodes) and all(node == num_customers for node in current_nodes):\n",
    "            cost = buffer[key][0]\n",
    "            if cost < best_cost:\n",
    "                best_cost = cost\n",
    "                best_key = key\n",
    "\n",
    "    # Retrace the optimal path\n",
    "    optimal_path = []\n",
    "    while best_key is not None:\n",
    "        optimal_path.append(best_key[1])  # Append current nodes of the best key\n",
    "        best_key = buffer[best_key][1]  # Use previous nodes to trace back\n",
    "\n",
    "    optimal_path = optimal_path[::-1]  # Reverse to get the correct order\n",
    "\n",
    "    end_time = time.time()  # End the timer\n",
    "    computational_time = end_time - start_time\n",
    "    print(f\"Computational Time: {computational_time} seconds\")\n",
    "\n",
    "    return best_cost, optimal_path, computational_time"
   ]
  },
  {
   "cell_type": "markdown",
   "metadata": {
    "id": "ic6sdAbqo-zQ"
   },
   "source": [
    "We test the implementation with a small instance with 2 vehicles and 5 specimens. The locations and time-windows are randomly generated."
   ]
  },
  {
   "cell_type": "code",
   "execution_count": null,
   "metadata": {
    "colab": {
     "base_uri": "https://localhost:8080/"
    },
    "id": "uL9Vvz5bpa1x",
    "outputId": "55750932-305d-45a7-d538-29116e5dd650"
   },
   "outputs": [
    {
     "name": "stdout",
     "output_type": "stream",
     "text": [
      "Computational Time: 3.865105628967285 seconds\n",
      "38.443680177138965\n",
      "[(5, 5), (0, 3), (5, 5), (5, 1), (5, 5), (2, 4), (5, 5)]\n",
      "Computational Time: 3.865105628967285 seconds\n"
     ]
    }
   ],
   "source": [
    "num_vehicles = 2\n",
    "num_customers = 5\n",
    "depot_location = [0.5, 0.5]\n",
    "\n",
    "np.random.seed(103093)\n",
    "customer_locations = np.random.rand(25, 2)\n",
    "\n",
    "customer_time_windows = [(0, 10), (5, 15), (10, 20), (0, 25), (20, 30),\n",
    "                          (0, 10), (5, 15), (10, 20), (15, 25), (20, 30),\n",
    "                          (0, 10), (5, 15), (10, 20), (15, 25), (20, 30),\n",
    "                          (0, 10), (5, 15), (10, 20), (15, 25), (20, 30),\n",
    "                          (0, 10), (5, 15), (10, 20), (15, 25), (20, 30)]\n",
    "\n",
    "cost, route, computational_time = dynamic_programming_basic(num_vehicles, num_customers, depot_location, customer_locations, customer_time_windows)\n",
    "print(cost)\n",
    "print(route)\n",
    "print(f\"Computational Time: {computational_time} seconds\")"
   ]
  },
  {
   "cell_type": "markdown",
   "metadata": {
    "id": "8OiCP_oNqIUV"
   },
   "source": [
    "The optimal path will be:\n",
    "* Vehicle 1: $Depot → 0 → Depot → 2 → Depot$\n",
    "* Vehicle 2: $Depot → 3 → Depot → 1 → Depot → 4 → Depot$\n",
    "\n",
    "Now we solve an instance with 3 vehicles and 5 specimens, the values ​of locations and time-windows are kept the same."
   ]
  },
  {
   "cell_type": "code",
   "execution_count": null,
   "metadata": {
    "colab": {
     "base_uri": "https://localhost:8080/"
    },
    "id": "OCIUZrZqrQZl",
    "outputId": "d48130a0-b77a-4bc1-d081-af5a9d996c7f"
   },
   "outputs": [
    {
     "name": "stdout",
     "output_type": "stream",
     "text": [
      "Computational Time: 49.64955496788025 seconds\n",
      "38.44368017713896\n",
      "[(5, 5, 5), (5, 1, 5), (5, 5, 5), (0, 4, 5), (5, 5, 5), (2, 5, 5), (5, 5, 3), (5, 5, 5)]\n",
      "Computational Time: 49.64955496788025 seconds\n"
     ]
    }
   ],
   "source": [
    "num_vehicles = 3\n",
    "num_customers = 5\n",
    "\n",
    "cost, route, computational_time = dynamic_programming_basic(num_vehicles, num_customers, depot_location, customer_locations, customer_time_windows)\n",
    "print(cost)\n",
    "print(route)\n",
    "print(f\"Computational Time: {computational_time} seconds\")"
   ]
  },
  {
   "cell_type": "markdown",
   "metadata": {
    "id": "1vMy3Qe9rnbK"
   },
   "source": [
    "Just by adding one more vehicle to the fleet, the computational time increases significantly as the size of state space increased. Therefore, some methods will be proposed to improve the performance. The code is given in advance."
   ]
  },
  {
   "cell_type": "code",
   "execution_count": 3,
   "metadata": {
    "id": "t8dPlRyK8j97"
   },
   "outputs": [],
   "source": [
    "def dynamic_programming_improved(num_vehicles,\n",
    "                            num_customers,\n",
    "                            depot_location,\n",
    "                            customer_locations,\n",
    "                            customer_time_windows,\n",
    "                            use_dominance_rule_1=True,\n",
    "                            use_dominance_rule_2=True,\n",
    "                            use_tw_prunning=True,\n",
    "                            use_symmetry_pruning=True\n",
    "                            ):\n",
    "    def get_state_key(state):\n",
    "        # Keep state representation unchanged to avoid sorting vehicles for every state key\n",
    "        return (\n",
    "            tuple(frozenset(nodes) for nodes in state['visited_nodes']),\n",
    "            tuple(state['current_nodes']),\n",
    "            tuple(state['visited_count']),\n",
    "            tuple(state['vehicle_travel_times']),\n",
    "        )\n",
    "\n",
    "    def step_obs(obs, action):\n",
    "        obs_new = copy.deepcopy(obs)\n",
    "        visited_nodes = obs_new['visited_nodes']\n",
    "        current_nodes = obs_new['current_nodes']\n",
    "        visited_counts = obs_new['visited_count']\n",
    "        vehicle_travel_times = obs_new['vehicle_travel_times']\n",
    "        unvisited_nodes = get_unvisited_nodes(visited_nodes)\n",
    "\n",
    "        cost = float(0)\n",
    "        info = {}\n",
    "\n",
    "        if all(n == num_customers for n in current_nodes) and not np.any(unvisited_nodes):\n",
    "            info[\"Done\"] = True\n",
    "            return obs_new, cost, True, False, info\n",
    "\n",
    "        if not is_action_valid(action, unvisited_nodes, current_nodes, vehicle_travel_times):\n",
    "            info[\"ValueError\"] = \"Invalid action\"\n",
    "            return obs_new, cost, False, False, info\n",
    "\n",
    "        # Iterate through each vehicle and execute their action\n",
    "        for vehicle_idx in range(num_vehicles):\n",
    "            destination_idx = action[vehicle_idx]\n",
    "\n",
    "            if current_nodes[vehicle_idx] == num_customers:\n",
    "                current_position = np.array(depot_location)\n",
    "            else:\n",
    "                current_position = np.array(customer_locations[current_nodes[vehicle_idx]])\n",
    "\n",
    "            # Determine destination's location\n",
    "            if destination_idx == num_customers:\n",
    "                destination = np.array(depot_location)\n",
    "            else:\n",
    "                destination = np.array(customer_locations[destination_idx])\n",
    "\n",
    "            # Calculate travel time\n",
    "            travel_time = np.linalg.norm(destination - current_position)\n",
    "            vehicle_travel_times[vehicle_idx] += travel_time\n",
    "\n",
    "            # If next node is the depot\n",
    "            if destination_idx == num_customers:\n",
    "                cost += (vehicle_travel_times[vehicle_idx] * visited_counts[vehicle_idx])\n",
    "                visited_counts[vehicle_idx] = 0\n",
    "                current_nodes[vehicle_idx] = destination_idx\n",
    "                visited_nodes[vehicle_idx].add(destination_idx)\n",
    "            # If next node is a customer\n",
    "            if destination_idx < num_customers:\n",
    "                if unvisited_nodes[destination_idx] == 1:\n",
    "                    unvisited_nodes[destination_idx] = 0\n",
    "                    start_time, end_time = customer_time_windows[destination_idx]\n",
    "                    arrival_time = vehicle_travel_times[vehicle_idx]\n",
    "                    if arrival_time < start_time:\n",
    "                        vehicle_travel_times[vehicle_idx] = start_time\n",
    "                    elif arrival_time > end_time:\n",
    "                        return False\n",
    "                    visited_counts[vehicle_idx] += 1\n",
    "                    current_nodes[vehicle_idx] = destination_idx\n",
    "                    visited_nodes[vehicle_idx].add(destination_idx)\n",
    "\n",
    "        done = False\n",
    "        if all(n == num_customers for n in current_nodes) and not np.any(unvisited_nodes):\n",
    "            done = True\n",
    "\n",
    "        next_obs = {\n",
    "            \"visited_nodes\": visited_nodes,\n",
    "            \"current_nodes\": current_nodes,\n",
    "            \"visited_count\": visited_counts,\n",
    "            \"vehicle_travel_times\": vehicle_travel_times,\n",
    "        }\n",
    "\n",
    "        return next_obs, cost, done, False, info\n",
    "\n",
    "    def get_unvisited_nodes(visited_nodes):\n",
    "        unvisited_nodes = np.ones(num_customers, dtype=int)\n",
    "        for vehicle_idx in range(num_vehicles):\n",
    "            for node in visited_nodes[vehicle_idx]:\n",
    "                if 0 <= node < num_customers:\n",
    "                    unvisited_nodes[node] = 0\n",
    "        return unvisited_nodes\n",
    "\n",
    "    def is_action_valid(action, unvisited, current, vehicle_travel_times):\n",
    "        unvisited_nodes = unvisited.copy()\n",
    "        current_nodes = current.copy()\n",
    "\n",
    "        for node_idx in range(num_customers):\n",
    "            temp = 0\n",
    "            for a in action:\n",
    "                if node_idx == a:\n",
    "                    temp += 1\n",
    "            if temp >= 2:\n",
    "                return False\n",
    "\n",
    "        for vehicle_idx in range(num_vehicles):\n",
    "            destination_idx = action[vehicle_idx]\n",
    "\n",
    "            # Validate action indices\n",
    "            if not (0 <= destination_idx <= num_customers):\n",
    "                return False\n",
    "            # Check if the customer has already been visited by any vehicle\n",
    "            if (destination_idx < num_customers\n",
    "                    and unvisited_nodes[destination_idx] == 0):\n",
    "                return False\n",
    "            # Check if the arrival time exceeds the time window\n",
    "            if destination_idx < num_customers:\n",
    "                start_time, end_time = customer_time_windows[destination_idx]\n",
    "                current_position = np.array(depot_location) if current_nodes[vehicle_idx] == num_customers else np.array(customer_locations[current_nodes[vehicle_idx]])\n",
    "                destination = np.array(customer_locations[destination_idx])\n",
    "                travel_time = np.linalg.norm(destination - current_position)\n",
    "                arrival_time = vehicle_travel_times[vehicle_idx] + travel_time\n",
    "                if arrival_time > end_time:\n",
    "                    return False\n",
    "\n",
    "        # Check for future feasibility of unvisited nodes\n",
    "        if use_tw_prunning:\n",
    "            for node_idx, is_unvisited in enumerate(unvisited_nodes):\n",
    "                if is_unvisited:\n",
    "                    min_arrival_times = [\n",
    "                        vehicle_travel_times[vehicle_idx] + np.linalg.norm(\n",
    "                            customer_locations[node_idx] -\n",
    "                            (depot_location if current_nodes[vehicle_idx] == num_customers else customer_locations[current_nodes[vehicle_idx]])\n",
    "                        )\n",
    "                        for vehicle_idx in range(num_vehicles)\n",
    "                    ]\n",
    "                    earliest_arrival = min(min_arrival_times)\n",
    "                    start_time, end_time = customer_time_windows[node_idx]\n",
    "                    if earliest_arrival > end_time:\n",
    "                        return False\n",
    "\n",
    "        if all(i == num_customers for i in current_nodes) and all(a == num_customers for a in action):\n",
    "            return False\n",
    "\n",
    "        return True\n",
    "\n",
    "    def get_all_valid_actions(unvisited, current, times):\n",
    "        unvisited_nodes = unvisited.copy()\n",
    "        current_nodes = current.copy()\n",
    "        current_times = times.copy()\n",
    "        valid_actions = []\n",
    "        all_possible_actions = list(itertools.product(range(num_customers + 1), repeat=num_vehicles))\n",
    "\n",
    "        for action in all_possible_actions:\n",
    "            if is_action_valid(action, unvisited_nodes, current_nodes, current_times):\n",
    "                valid_actions.append(list(action))\n",
    "\n",
    "        return np.array(valid_actions)\n",
    "\n",
    "    start_time = time.time()  # Start the timer\n",
    "\n",
    "    initial_state = {\n",
    "        \"visited_nodes\": [set() for _ in range(num_vehicles)],\n",
    "        \"current_nodes\": [num_customers] * num_vehicles,\n",
    "        \"visited_count\": [0] * num_vehicles,\n",
    "        \"vehicle_travel_times\": [0.0] * num_vehicles,\n",
    "    }\n",
    "    initial_key = get_state_key(initial_state)\n",
    "    buffer = defaultdict(lambda: (float('inf'), None))  # Use defaultdict to initialize default values for buffer\n",
    "    buffer[initial_key] = (0, None)\n",
    "    priority_queue = [(0, initial_key, initial_state)]  # Use a priority queue to store (cost, state_key, state) tuples\n",
    "\n",
    "    # Track a reduced set of representative states for symmetry checks\n",
    "    representative_states = set()\n",
    "\n",
    "    while priority_queue:\n",
    "        current_cost, current_key, current_state = heapq.heappop(priority_queue)\n",
    "\n",
    "        if current_cost > buffer[current_key][0]:\n",
    "            continue\n",
    "\n",
    "        unvisited_nodes = get_unvisited_nodes(current_state['visited_nodes'])\n",
    "        valid_actions = get_all_valid_actions(unvisited_nodes, current_state['current_nodes'], current_state['vehicle_travel_times'])\n",
    "\n",
    "        for action in valid_actions:\n",
    "            next_state, action_cost, _, _, _ = step_obs(current_state, action)\n",
    "            next_key = get_state_key(next_state)\n",
    "            new_cost = current_cost + action_cost\n",
    "\n",
    "            # Symmetry pruning\n",
    "            if use_symmetry_pruning:\n",
    "                if not all(n == num_customers for n in next_state['current_nodes']):\n",
    "                    hash_next_state = hash(tuple(sorted((tuple(next_state['visited_nodes'][i]),\n",
    "                                                    next_state['current_nodes'][i],\n",
    "                                                    next_state['visited_count'][i],\n",
    "                                                    next_state['vehicle_travel_times'][i])\n",
    "                                                for i in range(num_vehicles))))\n",
    "                    if hash_next_state in representative_states:\n",
    "                        continue\n",
    "                    representative_states.add(hash_next_state)\n",
    "\n",
    "            # Dominance rule: prune states with higher cost\n",
    "            if use_dominance_rule_1:\n",
    "                if next_key in buffer:\n",
    "                    if new_cost >= buffer[next_key][0]:\n",
    "                        continue\n",
    "\n",
    "            # Additional dominance rule: if all vehicles are at depot and visited nodes are the same\n",
    "            if use_dominance_rule_2:\n",
    "                if all(node == num_customers for node in next_state['current_nodes']):\n",
    "                    existing_keys = [k for k in buffer.keys() if k[0] == next_key[0] and all(n == num_customers for n in k[1])]\n",
    "                    dominated = False\n",
    "                    for existing_key in existing_keys:\n",
    "                        if buffer[existing_key][0] <= new_cost:\n",
    "                            dominated = True\n",
    "                            break\n",
    "                    if dominated:\n",
    "                        continue\n",
    "                    else:\n",
    "                        for existing_key in existing_keys:\n",
    "                            del buffer[existing_key]\n",
    "                            existing_state = next((q for _, k, q in priority_queue if k == existing_key), None)\n",
    "                            if (buffer[existing_key][0], existing_key, existing_state) in priority_queue:\n",
    "                                priority_queue.remove((buffer[existing_key][0], existing_key, existing_state))\n",
    "                                heapq.heapify(priority_queue)\n",
    "\n",
    "            buffer[next_key] = (new_cost, current_key)\n",
    "            heapq.heappush(priority_queue, (new_cost, next_key, next_state))\n",
    "\n",
    "\n",
    "    best_cost = float('inf')\n",
    "    best_key = None\n",
    "\n",
    "    for key in buffer.keys():\n",
    "        visited_nodes, current_nodes, visited_count, vehicle_travel_times = key\n",
    "        unvisited_nodes = get_unvisited_nodes([set(nodes) for nodes in visited_nodes])\n",
    "        if all(node == 0 for node in unvisited_nodes) and all(node == num_customers for node in current_nodes):\n",
    "            cost = buffer[key][0]\n",
    "            if cost < best_cost:\n",
    "                best_cost = cost\n",
    "                best_key = key\n",
    "\n",
    "    optimal_path = []\n",
    "    while best_key is not None:\n",
    "        optimal_path.append(best_key[1])\n",
    "        best_key = buffer[best_key][1]\n",
    "\n",
    "    optimal_path = optimal_path[::-1]  # Reverse to get the correct order\n",
    "\n",
    "    end_time = time.time()  # End the timer\n",
    "    computational_time = end_time - start_time\n",
    "    print(f\"Computational Time: {computational_time} seconds\")\n",
    "\n",
    "    return best_cost, optimal_path, computational_time"
   ]
  },
  {
   "cell_type": "markdown",
   "metadata": {
    "id": "BB_VMswb8kHb"
   },
   "source": [
    "**3.1. Using more effective data structure:**\n",
    "\n",
    "The speed of the algorithm is greatly affected by the time it takes to search and update the $buffer$ and the $queue$. Therefore, using more efficient data structures will improve computational time. So the first approach is to use **defaultdict** (in Python) instead of built-in dictionary for the $buffer$, and use **heap queue (also called priority queue)** instead of list for the $queue$.\n",
    "\n",
    "**defaultdict** is better when dealing with large dictionaries (our case). This is because defaultdict automatically initializes keys with a default value upon creation, eliminating the need to explicitly check for key existence or assign default values manually. As a result, it streamlines operations that involve frequent key lookups and updates ([source](https://dev.to/jorjishasan/built-in-dictionary-vs-defaultdict-2pmh)).\n",
    "\n",
    "\n",
    "A **heap queue** organizes elements by priority, retrieving or removing higher-priority elements before lower-priority ones. Here we use cummulative cost to prioritize exploring states with low costs first. The insertion and extraction of the smallest element is $O(log n)$ instead of $O(n log n)$ of buil-in list. This also makes approaches like prunning suboptimal states or applying dominance rule (which will be discussed later) more efficient by providing a good lowerbound earlier.\n",
    "\n",
    "These two changes are served as a starting point for the remaining approaches."
   ]
  },
  {
   "cell_type": "markdown",
   "metadata": {
    "id": "jVWmK0Oc8qs1"
   },
   "source": [
    "**3.2. Symmetry-Pruning:**\n",
    "\n",
    "Considering a homogeneous fleet, indexes of vehicles are interchangeable. Symmetry pruning identifies if two states are equivalent by hashing the sorted representation of these components. This ensures that permutations of the index of vehicles are treated as equivalent. This method becomes even more effective as the number of vehicles increases."
   ]
  },
  {
   "cell_type": "code",
   "execution_count": null,
   "metadata": {
    "colab": {
     "base_uri": "https://localhost:8080/"
    },
    "id": "wdacKwwbA1wQ",
    "outputId": "031bb802-170b-4286-e45c-1b810c7a18cb"
   },
   "outputs": [
    {
     "name": "stdout",
     "output_type": "stream",
     "text": [
      "Computational Time: 1.6153004169464111 seconds\n",
      "38.44368017713897\n",
      "[(5, 5), (3, 5), (5, 0), (5, 2), (1, 5), (5, 5), (5, 4), (5, 5)]\n",
      "Computational Time: 1.6153004169464111 seconds\n"
     ]
    }
   ],
   "source": [
    "num_vehicles = 2\n",
    "num_customers = 5\n",
    "\n",
    "cost, route, computational_time = dynamic_programming_improved(\n",
    "    num_vehicles,\n",
    "    num_customers,\n",
    "    depot_location,\n",
    "    customer_locations,\n",
    "    customer_time_windows,\n",
    "    use_dominance_rule_1=False,\n",
    "    use_dominance_rule_2=False,\n",
    "    use_tw_prunning=False,\n",
    "    use_symmetry_pruning=True)\n",
    "\n",
    "print(cost)\n",
    "print(route)\n",
    "print(f\"Computational Time: {computational_time} seconds\")"
   ]
  },
  {
   "cell_type": "markdown",
   "metadata": {
    "id": "taGcmroDBnpK"
   },
   "source": [
    "The computational time reduced from 3.865 to 1.615 for instance with 2 vehicles and 5 specimens."
   ]
  },
  {
   "cell_type": "code",
   "execution_count": null,
   "metadata": {
    "colab": {
     "base_uri": "https://localhost:8080/"
    },
    "id": "h8AgbW8bB-dM",
    "outputId": "04efc551-dd16-4834-e44d-802e7faf620b"
   },
   "outputs": [
    {
     "name": "stdout",
     "output_type": "stream",
     "text": [
      "Computational Time: 9.843223571777344 seconds\n",
      "38.443680177138965\n",
      "[(5, 5, 5), (3, 5, 5), (5, 2, 5), (5, 5, 5), (1, 4, 0), (5, 5, 5)]\n",
      "Computational Time: 9.843223571777344 seconds\n"
     ]
    }
   ],
   "source": [
    "num_vehicles = 3\n",
    "num_customers = 5\n",
    "\n",
    "cost, route, computational_time = dynamic_programming_improved(\n",
    "    num_vehicles,\n",
    "    num_customers,\n",
    "    depot_location,\n",
    "    customer_locations,\n",
    "    customer_time_windows,\n",
    "    use_dominance_rule_1=False,\n",
    "    use_dominance_rule_2=False,\n",
    "    use_tw_prunning=False,\n",
    "    use_symmetry_pruning=True)\n",
    "\n",
    "print(cost)\n",
    "print(route)\n",
    "print(f\"Computational Time: {computational_time} seconds\")"
   ]
  },
  {
   "cell_type": "markdown",
   "metadata": {
    "id": "92T5JlStCJtm"
   },
   "source": [
    "The compuational time reduced more significant from 49.649 to 9.843 for instance with 3 vehicles and 5 specimens."
   ]
  },
  {
   "cell_type": "markdown",
   "metadata": {
    "id": "zoHlBKvWGt-Q"
   },
   "source": [
    "**3.3. Dominance rule 1 - pruning states with higher cumulative cost:**\n",
    "\n",
    "A dominance rule is implemented to prune the states which are fully dominated. Two states with the same label, but one state is dominated if its cost is higher than the other.\n"
   ]
  },
  {
   "cell_type": "code",
   "execution_count": null,
   "metadata": {
    "colab": {
     "base_uri": "https://localhost:8080/"
    },
    "id": "e-QzEsX1NbMN",
    "outputId": "fee2787c-3b64-4614-c698-a9fdac014852"
   },
   "outputs": [
    {
     "name": "stdout",
     "output_type": "stream",
     "text": [
      "Computational Time: 37.412883043289185 seconds\n",
      "38.44368017713896\n",
      "[(5, 5, 5), (5, 5, 1), (5, 5, 5), (5, 0, 4), (5, 5, 5), (5, 2, 5), (3, 5, 5), (5, 5, 5)]\n",
      "Computational Time: 37.412883043289185 seconds\n"
     ]
    }
   ],
   "source": [
    "num_vehicles = 3\n",
    "num_customers = 5\n",
    "\n",
    "cost, route, computational_time = dynamic_programming_improved(\n",
    "    num_vehicles,\n",
    "    num_customers,\n",
    "    depot_location,\n",
    "    customer_locations,\n",
    "    customer_time_windows,\n",
    "    use_dominance_rule_1=True,\n",
    "    use_dominance_rule_2=False,\n",
    "    use_tw_prunning=False,\n",
    "    use_symmetry_pruning=False)\n",
    "\n",
    "print(cost)\n",
    "print(route)\n",
    "print(f\"Computational Time: {computational_time} seconds\")"
   ]
  },
  {
   "cell_type": "markdown",
   "metadata": {
    "id": "uRG010bDSuFr"
   },
   "source": [
    "The compuational time reduced more significant from 49.649 to 37.413 for instance with 3 vehicles and 5 specimens."
   ]
  },
  {
   "cell_type": "markdown",
   "metadata": {
    "id": "7koPnm3KS3wj"
   },
   "source": [
    "**3.4. Dominance rule 2 - vehicles are at depot and same visited nodes:**\n",
    "\n",
    "Inspired by Baldacci et al. (2012) and Tilk and Irnich (2017): Given two state where all vehicles are at the depot (time that the costs occur) and have identical set of visited nodes, a dominance rule is implemented to retain only the state with lower traveling times (for all vehicles). The correctness of this dominance rule can be proven by using the same path in the future when approaching unvisited nodes."
   ]
  },
  {
   "cell_type": "code",
   "execution_count": null,
   "metadata": {
    "colab": {
     "base_uri": "https://localhost:8080/"
    },
    "id": "ObYkHcE3VIkm",
    "outputId": "bf1879af-cfa4-4b8d-fa60-029a7ba72e5f"
   },
   "outputs": [
    {
     "name": "stdout",
     "output_type": "stream",
     "text": [
      "Computational Time: 14.32629108428955 seconds\n",
      "38.443680177138965\n",
      "[(5, 5), (3, 0), (5, 5), (5, 1), (5, 5), (2, 4), (5, 5)]\n",
      "Computational Time: 14.32629108428955 seconds\n"
     ]
    }
   ],
   "source": [
    "num_vehicles = 2\n",
    "num_customers = 5\n",
    "\n",
    "cost, route, computational_time = dynamic_programming_improved(\n",
    "    num_vehicles,\n",
    "    num_customers,\n",
    "    depot_location,\n",
    "    customer_locations,\n",
    "    customer_time_windows,\n",
    "    use_dominance_rule_1=False,\n",
    "    use_dominance_rule_2=True,\n",
    "    use_tw_prunning=False,\n",
    "    use_symmetry_pruning=False)\n",
    "\n",
    "print(cost)\n",
    "print(route)\n",
    "print(f\"Computational Time: {computational_time} seconds\")"
   ]
  },
  {
   "cell_type": "markdown",
   "metadata": {
    "id": "-cld7CVQVxbH"
   },
   "source": [
    "The compuational time increased from 3.865 to 14.326 for instance with 2 vehicles and 5 specimens. This shows that the time reduction through reducing the size of the state space cannot compensate for the computation time of this function, especially when we have to search the entire $buffer$ with the condition."
   ]
  },
  {
   "cell_type": "markdown",
   "metadata": {
    "id": "YJRP5zL8WoQ6"
   },
   "source": [
    "**3.5. Pruning according to time-windows:**\n",
    "\n",
    "In this method, we check for future considerations of appoaching unvisited locations when checking for valid actions. We determine if any unvisited customer nodes (from the perspective of all vehicles) can still be reached within their allowed time windows after taking the action. If no feasible path exists for a customer node due to its time window, the action leads to an infeasible state and will be eliminated from further exploration."
   ]
  },
  {
   "cell_type": "code",
   "execution_count": null,
   "metadata": {
    "colab": {
     "base_uri": "https://localhost:8080/"
    },
    "id": "DBNcDfjSYbEG",
    "outputId": "f5ee8cc0-7129-48a6-89ae-abf7788147be"
   },
   "outputs": [
    {
     "name": "stdout",
     "output_type": "stream",
     "text": [
      "Computational Time: 20.352882385253906 seconds\n",
      "38.443680177138965\n",
      "[(5, 5), (0, 5), (5, 5), (2, 5), (5, 5), (4, 5), (5, 5), (5, 3), (5, 5), (5, 1), (5, 5)]\n",
      "Computational Time: 20.352882385253906 seconds\n"
     ]
    }
   ],
   "source": [
    "num_vehicles = 2\n",
    "num_customers = 5\n",
    "\n",
    "cost, route, computational_time = dynamic_programming_improved(\n",
    "    num_vehicles,\n",
    "    num_customers,\n",
    "    depot_location,\n",
    "    customer_locations,\n",
    "    customer_time_windows,\n",
    "    use_dominance_rule_1=False,\n",
    "    use_dominance_rule_2=False,\n",
    "    use_tw_prunning=True,\n",
    "    use_symmetry_pruning=False)\n",
    "\n",
    "print(cost)\n",
    "print(route)\n",
    "print(f\"Computational Time: {computational_time} seconds\")"
   ]
  },
  {
   "cell_type": "markdown",
   "metadata": {
    "id": "roLo-dz-Yoys"
   },
   "source": [
    "The compuational time increased from 3.865 to 20.352 for instance with 2 vehicles and 5 specimens. The reason should be similar to when applying dominance rule 2, even with tighter time-windows."
   ]
  },
  {
   "cell_type": "markdown",
   "metadata": {
    "id": "PgYm1ZEmaoDZ"
   },
   "source": [
    "Finally, we evaluate the performance of the algorithm using only proven methods, including symmetry pruning and dominance rule 1."
   ]
  },
  {
   "cell_type": "code",
   "execution_count": null,
   "metadata": {
    "colab": {
     "base_uri": "https://localhost:8080/"
    },
    "id": "g4qNqQ_cbCr8",
    "outputId": "758240d9-dbff-494e-c41b-23405e5535b0"
   },
   "outputs": [
    {
     "name": "stdout",
     "output_type": "stream",
     "text": [
      "Computational Time: 1.3009347915649414 seconds\n",
      "38.443680177138965\n",
      "[(5, 5), (3, 5), (5, 0), (1, 5), (5, 5), (4, 2), (5, 5)]\n",
      "Computational Time: 1.3009347915649414 seconds\n"
     ]
    }
   ],
   "source": [
    "num_vehicles = 2\n",
    "num_customers = 5\n",
    "\n",
    "cost, route, computational_time = dynamic_programming_improved(\n",
    "    num_vehicles,\n",
    "    num_customers,\n",
    "    depot_location,\n",
    "    customer_locations,\n",
    "    customer_time_windows,\n",
    "    use_dominance_rule_1=True,\n",
    "    use_dominance_rule_2=False,\n",
    "    use_tw_prunning=False,\n",
    "    use_symmetry_pruning=True)\n",
    "\n",
    "print(cost)\n",
    "print(route)\n",
    "print(f\"Computational Time: {computational_time} seconds\")"
   ]
  },
  {
   "cell_type": "code",
   "execution_count": null,
   "metadata": {
    "colab": {
     "base_uri": "https://localhost:8080/"
    },
    "id": "5mkyApHBbRlO",
    "outputId": "dc356134-f4ea-4bd9-ed8e-814b754eafe8"
   },
   "outputs": [
    {
     "name": "stdout",
     "output_type": "stream",
     "text": [
      "Computational Time: 7.363787412643433 seconds\n",
      "38.443680177138965\n",
      "[(5, 5, 5), (0, 1, 5), (5, 5, 5), (4, 2, 3), (5, 5, 5)]\n",
      "Computational Time: 7.363787412643433 seconds\n"
     ]
    }
   ],
   "source": [
    "num_vehicles = 3\n",
    "num_customers = 5\n",
    "\n",
    "cost, route, computational_time = dynamic_programming_improved(\n",
    "    num_vehicles,\n",
    "    num_customers,\n",
    "    depot_location,\n",
    "    customer_locations,\n",
    "    customer_time_windows,\n",
    "    use_dominance_rule_1=True,\n",
    "    use_dominance_rule_2=False,\n",
    "    use_tw_prunning=False,\n",
    "    use_symmetry_pruning=True)\n",
    "\n",
    "print(cost)\n",
    "print(route)\n",
    "print(f\"Computational Time: {computational_time} seconds\")"
   ]
  },
  {
   "cell_type": "markdown",
   "metadata": {
    "id": "Vv5YpTw9bZDd"
   },
   "source": [
    "It has been shown that for both instances, the combination of the two methods is superior to using either one alone, as well as better than the basic algorithm. Here is the pseudocode of the improved algirithm, in which the pruning and dominance rules are intergrated into $evaluate$ function:\n",
    "\n",
    "```plaintext\n",
    "initial_state ← Instance's parameters\n",
    "Buffer ← {{initial_state: (0, None)}}\n",
    "HeapQueue ← {0, initial_state}\n",
    "Representative_states ← {}\n",
    "\n",
    "while HeapQueue is not empty:\n",
    "    (current_cost, S) ← HeapQueue.pop()\n",
    "    for action in get_all_valid_actions(S):\n",
    "        (S', cost) ← transition_function(S, action)\n",
    "        evaluate(S', cost)\n",
    "        if accepted:\n",
    "            Buffer[S'] ← (current_cost + cost, S)\n",
    "            HeapQueue.push(current_cost + cost, S')\n",
    "end while\n",
    "\n",
    "(best_path, best_cost) ← trace_back(Buffer)\n",
    "return best_path, best_cost\n",
    "```"
   ]
  },
  {
   "cell_type": "markdown",
   "metadata": {
    "id": "H93uiR7JKbDQ"
   },
   "source": [
    "# **4. Computational Experiments**\n",
    "\n",
    "In this chapter, we evaluate the speed of the basic algorithm and the improved algorithm with more instances for a more comprehensive evaluation. Using the same data of locations and time-windows for the specimens, the instances contain 2 or 3 vehicles and the number of vehicles ranges from 3 to 7."
   ]
  },
  {
   "cell_type": "code",
   "execution_count": 5,
   "metadata": {
    "colab": {
     "base_uri": "https://localhost:8080/"
    },
    "id": "M86sH3Q9eA0j",
    "outputId": "8eecea47-1057-4da5-ec48-9f08d5237ff8"
   },
   "outputs": [
    {
     "name": "stdout",
     "output_type": "stream",
     "text": [
      "Computational Time: 0.04252815246582031 seconds\n",
      "Computational Time: 0.020285606384277344 seconds\n",
      "Computational Time: 0.4191288948059082 seconds\n",
      "Computational Time: 0.19658946990966797 seconds\n",
      "Computational Time: 2.3336496353149414 seconds\n",
      "Computational Time: 0.9816684722900391 seconds\n",
      "Computational Time: 17.300128698349 seconds\n",
      "Computational Time: 6.866317510604858 seconds\n",
      "Computational Time: 196.07998752593994 seconds\n",
      "Computational Time: 96.43487119674683 seconds\n",
      "Computational Time: 0.2023329734802246 seconds\n",
      "Computational Time: 0.05281567573547363 seconds\n",
      "Computational Time: 4.112889051437378 seconds\n",
      "Computational Time: 0.7497639656066895 seconds\n",
      "Computational Time: 43.87856984138489 seconds\n",
      "Computational Time: 6.548305511474609 seconds\n",
      "Computational Time: 452.0072889328003 seconds\n",
      "Computational Time: 60.21872353553772 seconds\n",
      "Computational Time: 10089.768641471863 seconds\n",
      "Computational Time: 924.8513872623444 seconds\n",
      "       model  num_vehicles  num_customers       cost          time\n",
      "0      Basic             2              3  16.674281      0.042528\n",
      "1   Improved             2              3  16.674281      0.020286\n",
      "2      Basic             2              4  17.822105      0.419129\n",
      "3   Improved             2              4  17.822105      0.196589\n",
      "4      Basic             2              5  38.053445      2.333650\n",
      "5   Improved             2              5  38.053445      0.981668\n",
      "6      Basic             2              6  39.616668     17.300129\n",
      "7   Improved             2              6  39.616668      6.866318\n",
      "8      Basic             2              7  45.056290    196.079988\n",
      "9   Improved             2              7  45.056290     96.434871\n",
      "10     Basic             3              3  16.674281      0.202333\n",
      "11  Improved             3              3  16.674281      0.052816\n",
      "12     Basic             3              4  17.822105      4.112889\n",
      "13  Improved             3              4  17.822105      0.749764\n",
      "14     Basic             3              5  38.053445     43.878570\n",
      "15  Improved             3              5  38.053445      6.548306\n",
      "16     Basic             3              6  39.396061    452.007289\n",
      "17  Improved             3              6  39.396061     60.218724\n",
      "18     Basic             3              7  44.835683  10089.768641\n",
      "19  Improved             3              7  44.835683    924.851387\n"
     ]
    }
   ],
   "source": [
    "depot_location = [0.5, 0.5]\n",
    "np.random.seed(42)\n",
    "customer_locations = np.random.rand(25, 2)\n",
    "customer_time_windows = [(0, 10), (5, 15), (10, 20), (0, 25), (20, 30),\n",
    "                        (0, 10), (5, 15), (10, 20), (15, 25), (20, 30),\n",
    "                        (0, 10), (5, 15), (10, 20), (15, 25), (20, 30),\n",
    "                        (0, 10), (5, 15), (10, 20), (15, 25), (20, 30),\n",
    "                        (0, 10), (5, 15), (10, 20), (15, 25), (20, 30)]\n",
    "\n",
    "# Define the range for the number of vehicles and customers\n",
    "num_vehicles_list = [2, 3]\n",
    "num_customers_list = [i for i in range(3, 8)]\n",
    "\n",
    "# Initialize an empty list to store results\n",
    "results = []\n",
    "\n",
    "for num_vehicles in num_vehicles_list:\n",
    "    for num_customers in num_customers_list:\n",
    "        # Subset customer data for the current number of customers\n",
    "        current_customer_locations = customer_locations[:num_customers]\n",
    "        current_time_windows = customer_time_windows[:num_customers]\n",
    "\n",
    "        # Run the basic model\n",
    "        cost_basic, route_basic, time_basic = dynamic_programming_basic(\n",
    "            num_vehicles, num_customers, depot_location, current_customer_locations, current_time_windows\n",
    "        )\n",
    "\n",
    "        # Run the improved model\n",
    "        cost_improved, route_improved, time_improved = dynamic_programming_improved(\n",
    "            num_vehicles,\n",
    "            num_customers,\n",
    "            depot_location,\n",
    "            customer_locations,\n",
    "            customer_time_windows,\n",
    "            use_dominance_rule_1=True,\n",
    "            use_dominance_rule_2=False,\n",
    "            use_tw_prunning=False,\n",
    "            use_symmetry_pruning=True)\n",
    "\n",
    "        results.append({\n",
    "            'model': 'Basic',\n",
    "            'num_vehicles': num_vehicles,\n",
    "            'num_customers': num_customers,\n",
    "            'cost': cost_basic,\n",
    "            'time': time_basic\n",
    "        })\n",
    "        results.append({\n",
    "            'model': 'Improved',\n",
    "            'num_vehicles': num_vehicles,\n",
    "            'num_customers': num_customers,\n",
    "            'cost': cost_improved,\n",
    "            'time': time_improved\n",
    "        })\n",
    "\n",
    "results_df = pd.DataFrame(results)\n",
    "print(results_df)\n"
   ]
  },
  {
   "cell_type": "code",
   "execution_count": 6,
   "metadata": {
    "id": "KsAOyKM_QMlK"
   },
   "outputs": [
    {
     "data": {
      "image/png": "[encoded data removed]",
      "text/plain": [
       "<Figure size 1000x600 with 1 Axes>"
      ]
     },
     "metadata": {},
     "output_type": "display_data"
    }
   ],
   "source": [
    "import matplotlib.pyplot as plt\n",
    "\n",
    "df = pd.DataFrame(results_df)\n",
    "\n",
    "# Filtering data by model\n",
    "basic_model = df[(df['model'] == 'Basic') & (df['num_vehicles'] == 2)]\n",
    "improved_model = df[(df['model'] == 'Improved') & (df['num_vehicles'] == 2)]\n",
    "\n",
    "# Plotting the line chart\n",
    "plt.figure(figsize=(10, 6))\n",
    "plt.plot(basic_model['num_customers'], basic_model['time'], label='Basic', marker='o', linestyle='-')\n",
    "plt.plot(improved_model['num_customers'], improved_model['time'], label='Improved', marker='o', linestyle='-')\n",
    "\n",
    "plt.xlabel('Number of Nodes (n)')\n",
    "plt.ylabel('Computational Time (seconds)')\n",
    "plt.title('Number of vehicles: 2')\n",
    "plt.legend()\n",
    "\n",
    "plt.grid(True)\n",
    "plt.show()"
   ]
  },
  {
   "cell_type": "code",
   "execution_count": 7,
   "metadata": {
    "id": "813m0y-hRX4d"
   },
   "outputs": [
    {
     "data": {
      "image/png": "[encoded data removed]",
      "text/plain": [
       "<Figure size 1000x600 with 1 Axes>"
      ]
     },
     "metadata": {},
     "output_type": "display_data"
    }
   ],
   "source": [
    "basic_model = df[(df['model'] == 'Basic') & (df['num_vehicles'] == 3)]\n",
    "improved_model = df[(df['model'] == 'Improved') & (df['num_vehicles'] == 3)]\n",
    "\n",
    "# Plotting the line chart\n",
    "plt.figure(figsize=(10, 6))\n",
    "plt.plot(basic_model['num_customers'], basic_model['time'], label='Basic', marker='o', linestyle='-')\n",
    "plt.plot(improved_model['num_customers'], improved_model['time'], label='Improved', marker='o', linestyle='-')\n",
    "\n",
    "plt.xlabel('Number of Nodes (n)')\n",
    "plt.ylabel('Computational Time (seconds)')\n",
    "plt.title('Number of vehicles: 3')\n",
    "plt.legend()\n",
    "\n",
    "plt.grid(True)\n",
    "plt.show()"
   ]
  },
  {
   "cell_type": "markdown",
   "metadata": {
    "id": "tgzKQmI8R_gL"
   },
   "source": [
    "The result shows that we can achieve much better computational performances by using the improved model. The difference becomes increasingly clear when handling large instances. This understanding also shows that the big problem in when facing CDSP is the magnitude of the exponential increase in state space.\n",
    "\n",
    "It can be seen that the basic model has difficulty handling the instance with a large number of vehicles. By adding just one vehicle to the fleet, the processing time increases from 196.078 to 10089.769, or nearly 50 times, for an instance with 7 specimens. The improved model handles this problem better thanks to the symmetry pruning function. The processing time increases from 96.435 to 924.851, or about 10 times."
   ]
  },
  {
   "cell_type": "markdown",
   "metadata": {
    "id": "29qJv53jR_Wf"
   },
   "source": [
    "# **5. Conclusion**\n",
    "\n",
    "In this essay, we have implemented a dynamic programming algorithm using forward labeling to solve the Collection and Delivery Problem of Biomedical Specimens (CDSP) defined in Rocha et al. (2024). In addition, solutions to improve the algorithm are proposed and tested for their effectiveness. Among them, using symmetry pruning and dominance rule that only retaining the label with the smaller cost among similar labels has shown effectiveness in improving computational time. However, since the size of the state space increases quickly with increasing instance size, the proposed algorithm can only solve small instances of the problem.\n",
    "\n",
    "In addition to the above improvement approaches, some other approaches can also be considered in future research. Baldacci et al. (2012) proposed a bidirectional labeling algorithm for the Traveling Salesman Problem with Time Windows, which can be considered for CDSP. However, considering multiple trips and multiple vehicles makes implementing backward labeling difficult. New dominance rules can also be investigated. However, along with that, the search for more efficient data structures is necessary.\n",
    "\n",
    "Based on the proposed dynamic programming algorithm, ADP algorithms as well as Deep Reinforcement Learning can be developed, which is considered the main goal of this essay. In addition, the application of clustering for specimens based on location and time-windows proposed in Ferone et al. (2025) can be considered to implement heuristics that can produce near optimal solutions of good quality.\n",
    "\n"
   ]
  },
  {
   "cell_type": "markdown",
   "metadata": {
    "id": "7X-6w9mnWuAL"
   },
   "source": [
    "# **6. References**\n",
    "\n",
    "[1] L. A. Rocha, A. Otto, and M. Goerigk, “A new formulation for the collection and delivery problem of biomedical specimen,” Aug. 19, 2024, arXiv: arXiv:2408.09998. Accessed: Oct. 31, 2024. [Online]. Available: http://arxiv.org/abs/2408.09998\n",
    "\n",
    "\n",
    "[2] C. Tilk and S. Irnich, “Dynamic Programming for the Minimum Tour Duration Problem,” Transportation Science, vol. 51, no. 2, pp. 549–565, May 2017, doi: 10.1287/trsc.2015.0626.\n",
    "\n",
    "[3] R. Baldacci, A. Mingozzi, and R. Roberti, “New State-Space Relaxations for Solving the Traveling Salesman Problem with Time Windows,” INFORMS Journal on Computing, vol. 24, no. 3, pp. 356–371, Aug. 2012, doi: 10.1287/ijoc.1110.0456.\n",
    "\n",
    "[4] D. Ferone, P. Festa, S. Fugaro, and T. Pastore, “Hybridizing a matheuristic with ALNS for the optimal collection and delivery of medical specimens,” Int Trans Operational Res, vol. 32, no. 1, pp. 90–116, Jan. 2025, doi: 10.1111/itor.13386.\n",
    "\n",
    "[5] G. Lera-Romero, J. J. Miranda Bront, and F. J. Soulignac, “Dynamic Programming for the Time-Dependent Traveling Salesman Problem with Time Windows,” INFORMS Journal on Computing, vol. 34, no. 6, pp. 3292–3308, Nov. 2022, doi: 10.1287/ijoc.2022.1236.\n",
    "\n"
   ]
  }
 ],
 "metadata": {
  "colab": {
   "provenance": []
  },
  "kernelspec": {
   "display_name": "Python 3",
   "name": "python3"
  },
  "language_info": {
   "codemirror_mode": {
    "name": "ipython",
    "version": 3
   },
   "file_extension": ".py",
   "mimetype": "text/x-python",
   "name": "python",
   "nbconvert_exporter": "python",
   "pygments_lexer": "ipython3",
   "version": "3.10.11"
  }
 },
 "nbformat": 4,
 "nbformat_minor": 0
}
